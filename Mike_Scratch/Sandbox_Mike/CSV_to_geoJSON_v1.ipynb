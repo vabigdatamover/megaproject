{
 "cells": [
  {
   "cell_type": "code",
   "execution_count": 1,
   "metadata": {},
   "outputs": [],
   "source": [
    "import pandas\n",
    "import json"
   ]
  },
  {
   "cell_type": "code",
   "execution_count": 2,
   "metadata": {},
   "outputs": [],
   "source": [
    "import pandas as pd\n",
    "import shutil, os, glob\n",
    "import pymongo\n",
    "from pymongo import MongoClient\n",
    "import json\n",
    "import schedule\n",
    "import time\n",
    "# Incorporated citipy to determine city based on latitude and longitude\n",
    "from citipy import citipy"
   ]
  },
  {
   "cell_type": "code",
   "execution_count": 3,
   "metadata": {},
   "outputs": [],
   "source": [
    "df = pd.concat(map(pd.read_csv, glob.glob('input' + '\\*.csv')))\n",
    "#Extract All source code\n",
    "#https://stackoverflow.com/questions/20906474/import-multiple-csv-files-into-pandas-and-concatenate-into-one-dataframe"
   ]
  },
  {
   "cell_type": "code",
   "execution_count": 4,
   "metadata": {},
   "outputs": [
    {
     "data": {
      "text/html": [
       "<div>\n",
       "<style scoped>\n",
       "    .dataframe tbody tr th:only-of-type {\n",
       "        vertical-align: middle;\n",
       "    }\n",
       "\n",
       "    .dataframe tbody tr th {\n",
       "        vertical-align: top;\n",
       "    }\n",
       "\n",
       "    .dataframe thead th {\n",
       "        text-align: right;\n",
       "    }\n",
       "</style>\n",
       "<table border=\"1\" class=\"dataframe\">\n",
       "  <thead>\n",
       "    <tr style=\"text-align: right;\">\n",
       "      <th></th>\n",
       "      <th>Date</th>\n",
       "      <th>Time</th>\n",
       "      <th>Latitude</th>\n",
       "      <th>Longitude</th>\n",
       "      <th>Type</th>\n",
       "      <th>Depth</th>\n",
       "      <th>Magnitude</th>\n",
       "      <th>ID</th>\n",
       "    </tr>\n",
       "  </thead>\n",
       "  <tbody>\n",
       "    <tr>\n",
       "      <th>0</th>\n",
       "      <td>1965-01-02 00:00:00+00:00</td>\n",
       "      <td>13:44:18</td>\n",
       "      <td>19.246</td>\n",
       "      <td>145.616</td>\n",
       "      <td>Earthquake</td>\n",
       "      <td>131.6</td>\n",
       "      <td>6.0</td>\n",
       "      <td>ISCGEM860706</td>\n",
       "    </tr>\n",
       "    <tr>\n",
       "      <th>1</th>\n",
       "      <td>1965-01-04 00:00:00+00:00</td>\n",
       "      <td>11:29:49</td>\n",
       "      <td>1.863</td>\n",
       "      <td>127.352</td>\n",
       "      <td>Earthquake</td>\n",
       "      <td>80.0</td>\n",
       "      <td>5.8</td>\n",
       "      <td>ISCGEM860737</td>\n",
       "    </tr>\n",
       "    <tr>\n",
       "      <th>2</th>\n",
       "      <td>1965-01-05 00:00:00+00:00</td>\n",
       "      <td>18:05:58</td>\n",
       "      <td>-20.579</td>\n",
       "      <td>-173.972</td>\n",
       "      <td>Earthquake</td>\n",
       "      <td>20.0</td>\n",
       "      <td>6.2</td>\n",
       "      <td>ISCGEM860762</td>\n",
       "    </tr>\n",
       "    <tr>\n",
       "      <th>3</th>\n",
       "      <td>1965-01-08 00:00:00+00:00</td>\n",
       "      <td>18:49:43</td>\n",
       "      <td>-59.076</td>\n",
       "      <td>-23.557</td>\n",
       "      <td>Earthquake</td>\n",
       "      <td>15.0</td>\n",
       "      <td>5.8</td>\n",
       "      <td>ISCGEM860856</td>\n",
       "    </tr>\n",
       "    <tr>\n",
       "      <th>4</th>\n",
       "      <td>1965-01-09 00:00:00+00:00</td>\n",
       "      <td>13:32:50</td>\n",
       "      <td>11.938</td>\n",
       "      <td>126.427</td>\n",
       "      <td>Earthquake</td>\n",
       "      <td>15.0</td>\n",
       "      <td>5.8</td>\n",
       "      <td>ISCGEM860890</td>\n",
       "    </tr>\n",
       "  </tbody>\n",
       "</table>\n",
       "</div>"
      ],
      "text/plain": [
       "                        Date      Time  Latitude  Longitude        Type  \\\n",
       "0  1965-01-02 00:00:00+00:00  13:44:18    19.246    145.616  Earthquake   \n",
       "1  1965-01-04 00:00:00+00:00  11:29:49     1.863    127.352  Earthquake   \n",
       "2  1965-01-05 00:00:00+00:00  18:05:58   -20.579   -173.972  Earthquake   \n",
       "3  1965-01-08 00:00:00+00:00  18:49:43   -59.076    -23.557  Earthquake   \n",
       "4  1965-01-09 00:00:00+00:00  13:32:50    11.938    126.427  Earthquake   \n",
       "\n",
       "   Depth  Magnitude            ID  \n",
       "0  131.6        6.0  ISCGEM860706  \n",
       "1   80.0        5.8  ISCGEM860737  \n",
       "2   20.0        6.2  ISCGEM860762  \n",
       "3   15.0        5.8  ISCGEM860856  \n",
       "4   15.0        5.8  ISCGEM860890  "
      ]
     },
     "execution_count": 4,
     "metadata": {},
     "output_type": "execute_result"
    }
   ],
   "source": [
    "df.head()"
   ]
  },
  {
   "cell_type": "code",
   "execution_count": 5,
   "metadata": {},
   "outputs": [
    {
     "data": {
      "text/plain": [
       "Date          object\n",
       "Time          object\n",
       "Latitude     float64\n",
       "Longitude    float64\n",
       "Type          object\n",
       "Depth        float64\n",
       "Magnitude    float64\n",
       "ID            object\n",
       "dtype: object"
      ]
     },
     "execution_count": 5,
     "metadata": {},
     "output_type": "execute_result"
    }
   ],
   "source": [
    "df.dtypes"
   ]
  },
  {
   "cell_type": "code",
   "execution_count": 9,
   "metadata": {},
   "outputs": [
    {
     "name": "stdout",
     "output_type": "stream",
     "text": [
      "Index(['Date', 'Time', 'Latitude', 'Longitude', 'Type', 'Depth', 'Magnitude',\n",
      "       'ID'],\n",
      "      dtype='object')\n"
     ]
    }
   ],
   "source": [
    "# Before renaming the columns \n",
    "print(df.columns) \n"
   ]
  },
  {
   "cell_type": "code",
   "execution_count": 11,
   "metadata": {},
   "outputs": [
    {
     "name": "stdout",
     "output_type": "stream",
     "text": [
      "Index(['Date', 'Time', 'lat', 'lng', 'Type', 'Depth', 'Magnitude', 'ID'], dtype='object')\n"
     ]
    }
   ],
   "source": [
    "\n",
    "df.rename(columns = {'Latitude':'lat', 'Longitude':'lng'}, inplace = True) \n",
    "   \n",
    "# After renaming the columns \n",
    "print(df.columns) "
   ]
  },
  {
   "cell_type": "markdown",
   "metadata": {},
   "source": [
    "# Before renaming the columns \n",
    "print(rankings_pd.columns) \n",
    "   \n",
    "rankings_pd.rename(columns = {'test':'TEST', 'odi':'ODI', \n",
    "                              't20':'T20'}, inplace = True) \n",
    "   \n",
    "# After renaming the columns \n",
    "print(rankings_pd.columns) "
   ]
  },
  {
   "cell_type": "code",
   "execution_count": null,
   "metadata": {},
   "outputs": [],
   "source": []
  },
  {
   "cell_type": "code",
   "execution_count": null,
   "metadata": {},
   "outputs": [],
   "source": []
  },
  {
   "cell_type": "markdown",
   "metadata": {},
   "source": [
    "data_frame = pandas.read_csv(\n",
    "    '../web/public/data/historical_colours_world.csv',\n",
    "    parse_dates=[\n",
    "        'last_update',\n",
    "        'input_date',\n",
    "        'date_photo',\n",
    "    ],\n",
    "    infer_datetime_format=True,\n",
    "    na_values=['']\n",
    ")\n",
    "\n",
    "data_frame[data_frame.columns[:10]].head()"
   ]
  },
  {
   "cell_type": "markdown",
   "metadata": {},
   "source": [
    "data_frame[data_frame.columns[10:20]].head()"
   ]
  },
  {
   "cell_type": "code",
   "execution_count": 33,
   "metadata": {},
   "outputs": [
    {
     "data": {
      "text/html": [
       "<div>\n",
       "<style>\n",
       "    .dataframe thead tr:only-child th {\n",
       "        text-align: right;\n",
       "    }\n",
       "\n",
       "    .dataframe thead th {\n",
       "        text-align: left;\n",
       "    }\n",
       "\n",
       "    .dataframe tbody tr th {\n",
       "        vertical-align: top;\n",
       "    }\n",
       "</style>\n",
       "<table border=\"1\" class=\"dataframe\">\n",
       "  <thead>\n",
       "    <tr style=\"text-align: right;\">\n",
       "      <th></th>\n",
       "      <th>fu_observed</th>\n",
       "      <th>sd_depth</th>\n",
       "      <th>flagged_count</th>\n",
       "      <th>image</th>\n",
       "    </tr>\n",
       "  </thead>\n",
       "  <tbody>\n",
       "    <tr>\n",
       "      <th>0</th>\n",
       "      <td>NaN</td>\n",
       "      <td>NaN</td>\n",
       "      <td>0.0</td>\n",
       "      <td>http://www.eyeonwater.org/media/eyeonwater_upl...</td>\n",
       "    </tr>\n",
       "    <tr>\n",
       "      <th>1</th>\n",
       "      <td>NaN</td>\n",
       "      <td>NaN</td>\n",
       "      <td>0.0</td>\n",
       "      <td>http://www.eyeonwater.org/media/eyeonwater_upl...</td>\n",
       "    </tr>\n",
       "    <tr>\n",
       "      <th>2</th>\n",
       "      <td>NaN</td>\n",
       "      <td>NaN</td>\n",
       "      <td>0.0</td>\n",
       "      <td>http://www.eyeonwater.org/media/eyeonwater_upl...</td>\n",
       "    </tr>\n",
       "    <tr>\n",
       "      <th>3</th>\n",
       "      <td>NaN</td>\n",
       "      <td>NaN</td>\n",
       "      <td>0.0</td>\n",
       "      <td>http://www.eyeonwater.org/media/eyeonwater_upl...</td>\n",
       "    </tr>\n",
       "    <tr>\n",
       "      <th>4</th>\n",
       "      <td>NaN</td>\n",
       "      <td>NaN</td>\n",
       "      <td>0.0</td>\n",
       "      <td>http://www.eyeonwater.org/media/eyeonwater_upl...</td>\n",
       "    </tr>\n",
       "  </tbody>\n",
       "</table>\n",
       "</div>"
      ],
      "text/plain": [
       "   fu_observed  sd_depth  flagged_count  \\\n",
       "0          NaN       NaN            0.0   \n",
       "1          NaN       NaN            0.0   \n",
       "2          NaN       NaN            0.0   \n",
       "3          NaN       NaN            0.0   \n",
       "4          NaN       NaN            0.0   \n",
       "\n",
       "                                               image  \n",
       "0  http://www.eyeonwater.org/media/eyeonwater_upl...  \n",
       "1  http://www.eyeonwater.org/media/eyeonwater_upl...  \n",
       "2  http://www.eyeonwater.org/media/eyeonwater_upl...  \n",
       "3  http://www.eyeonwater.org/media/eyeonwater_upl...  \n",
       "4  http://www.eyeonwater.org/media/eyeonwater_upl...  "
      ]
     },
     "execution_count": 33,
     "metadata": {},
     "output_type": "execute_result"
    }
   ],
   "source": [
    "data_frame[data_frame.columns[20:]].head()"
   ]
  },
  {
   "cell_type": "markdown",
   "metadata": {},
   "source": [
    "data_frame.dtypes"
   ]
  },
  {
   "cell_type": "code",
   "execution_count": null,
   "metadata": {},
   "outputs": [],
   "source": []
  },
  {
   "cell_type": "code",
   "execution_count": 12,
   "metadata": {},
   "outputs": [],
   "source": [
    "json_result_string = df.to_json(\n",
    "    orient='records', \n",
    "    double_precision=12,\n",
    "    date_format='iso'\n",
    ")\n",
    "json_result = json.loads(json_result_string)"
   ]
  },
  {
   "cell_type": "code",
   "execution_count": 13,
   "metadata": {},
   "outputs": [],
   "source": [
    "geojson = {\n",
    "    'type': 'FeatureCollection',\n",
    "    'features': []\n",
    "}\n",
    "for record in json_result:\n",
    "    geojson['features'].append({\n",
    "        'type': 'Feature',\n",
    "        'geometry': {\n",
    "            'type': 'Point',\n",
    "            'coordinates': [record['lng'], record['lat']],\n",
    "        },\n",
    "        'properties': record,\n",
    "    })"
   ]
  },
  {
   "cell_type": "code",
   "execution_count": 14,
   "metadata": {},
   "outputs": [],
   "source": [
    "with open('quake_geoJSON_fmt.json', 'w') as f:\n",
    "    f.write(json.dumps(geojson, indent=2))"
   ]
  },
  {
   "cell_type": "code",
   "execution_count": null,
   "metadata": {
    "collapsed": true
   },
   "outputs": [],
   "source": []
  }
 ],
 "metadata": {
  "kernelspec": {
   "display_name": "Python 3",
   "language": "python",
   "name": "python3"
  },
  "language_info": {
   "codemirror_mode": {
    "name": "ipython",
    "version": 3
   },
   "file_extension": ".py",
   "mimetype": "text/x-python",
   "name": "python",
   "nbconvert_exporter": "python",
   "pygments_lexer": "ipython3",
   "version": "3.7.3"
  }
 },
 "nbformat": 4,
 "nbformat_minor": 2
}
