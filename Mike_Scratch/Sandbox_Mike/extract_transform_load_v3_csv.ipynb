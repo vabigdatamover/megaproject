{
 "cells": [
  {
   "cell_type": "code",
   "execution_count": 8,
   "metadata": {},
   "outputs": [],
   "source": [
    "#pip install schedule"
   ]
  },
  {
   "cell_type": "code",
   "execution_count": 9,
   "metadata": {},
   "outputs": [],
   "source": [
    "import pandas as pd\n",
    "import shutil, os, glob\n",
    "import pymongo\n",
    "from pymongo import MongoClient\n",
    "import json\n",
    "import schedule\n",
    "import time\n",
    "# Incorporated citipy to determine city based on latitude and longitude\n",
    "from citipy import citipy\n"
   ]
  },
  {
   "cell_type": "markdown",
   "metadata": {},
   "source": [
    "## Extract"
   ]
  },
  {
   "cell_type": "code",
   "execution_count": 10,
   "metadata": {},
   "outputs": [],
   "source": [
    "df = pd.concat(map(pd.read_csv, glob.glob('input' + '\\*.csv')))\n",
    "#Extract All source code\n",
    "#https://stackoverflow.com/questions/20906474/import-multiple-csv-files-into-pandas-and-concatenate-into-one-dataframe"
   ]
  },
  {
   "cell_type": "code",
   "execution_count": 11,
   "metadata": {
    "scrolled": true
   },
   "outputs": [
    {
     "data": {
      "text/html": [
       "<div>\n",
       "<style scoped>\n",
       "    .dataframe tbody tr th:only-of-type {\n",
       "        vertical-align: middle;\n",
       "    }\n",
       "\n",
       "    .dataframe tbody tr th {\n",
       "        vertical-align: top;\n",
       "    }\n",
       "\n",
       "    .dataframe thead th {\n",
       "        text-align: right;\n",
       "    }\n",
       "</style>\n",
       "<table border=\"1\" class=\"dataframe\">\n",
       "  <thead>\n",
       "    <tr style=\"text-align: right;\">\n",
       "      <th></th>\n",
       "      <th>Date</th>\n",
       "      <th>Time</th>\n",
       "      <th>Latitude</th>\n",
       "      <th>Longitude</th>\n",
       "      <th>Type</th>\n",
       "      <th>Depth</th>\n",
       "      <th>Magnitude</th>\n",
       "      <th>ID</th>\n",
       "    </tr>\n",
       "  </thead>\n",
       "  <tbody>\n",
       "    <tr>\n",
       "      <th>0</th>\n",
       "      <td>1965-01-02 00:00:00+00:00</td>\n",
       "      <td>13:44:18</td>\n",
       "      <td>19.246</td>\n",
       "      <td>145.616</td>\n",
       "      <td>Earthquake</td>\n",
       "      <td>131.6</td>\n",
       "      <td>6.0</td>\n",
       "      <td>ISCGEM860706</td>\n",
       "    </tr>\n",
       "    <tr>\n",
       "      <th>1</th>\n",
       "      <td>1965-01-04 00:00:00+00:00</td>\n",
       "      <td>11:29:49</td>\n",
       "      <td>1.863</td>\n",
       "      <td>127.352</td>\n",
       "      <td>Earthquake</td>\n",
       "      <td>80.0</td>\n",
       "      <td>5.8</td>\n",
       "      <td>ISCGEM860737</td>\n",
       "    </tr>\n",
       "    <tr>\n",
       "      <th>2</th>\n",
       "      <td>1965-01-05 00:00:00+00:00</td>\n",
       "      <td>18:05:58</td>\n",
       "      <td>-20.579</td>\n",
       "      <td>-173.972</td>\n",
       "      <td>Earthquake</td>\n",
       "      <td>20.0</td>\n",
       "      <td>6.2</td>\n",
       "      <td>ISCGEM860762</td>\n",
       "    </tr>\n",
       "    <tr>\n",
       "      <th>3</th>\n",
       "      <td>1965-01-08 00:00:00+00:00</td>\n",
       "      <td>18:49:43</td>\n",
       "      <td>-59.076</td>\n",
       "      <td>-23.557</td>\n",
       "      <td>Earthquake</td>\n",
       "      <td>15.0</td>\n",
       "      <td>5.8</td>\n",
       "      <td>ISCGEM860856</td>\n",
       "    </tr>\n",
       "    <tr>\n",
       "      <th>4</th>\n",
       "      <td>1965-01-09 00:00:00+00:00</td>\n",
       "      <td>13:32:50</td>\n",
       "      <td>11.938</td>\n",
       "      <td>126.427</td>\n",
       "      <td>Earthquake</td>\n",
       "      <td>15.0</td>\n",
       "      <td>5.8</td>\n",
       "      <td>ISCGEM860890</td>\n",
       "    </tr>\n",
       "  </tbody>\n",
       "</table>\n",
       "</div>"
      ],
      "text/plain": [
       "                        Date      Time  Latitude  Longitude        Type  \\\n",
       "0  1965-01-02 00:00:00+00:00  13:44:18    19.246    145.616  Earthquake   \n",
       "1  1965-01-04 00:00:00+00:00  11:29:49     1.863    127.352  Earthquake   \n",
       "2  1965-01-05 00:00:00+00:00  18:05:58   -20.579   -173.972  Earthquake   \n",
       "3  1965-01-08 00:00:00+00:00  18:49:43   -59.076    -23.557  Earthquake   \n",
       "4  1965-01-09 00:00:00+00:00  13:32:50    11.938    126.427  Earthquake   \n",
       "\n",
       "   Depth  Magnitude            ID  \n",
       "0  131.6        6.0  ISCGEM860706  \n",
       "1   80.0        5.8  ISCGEM860737  \n",
       "2   20.0        6.2  ISCGEM860762  \n",
       "3   15.0        5.8  ISCGEM860856  \n",
       "4   15.0        5.8  ISCGEM860890  "
      ]
     },
     "execution_count": 11,
     "metadata": {},
     "output_type": "execute_result"
    }
   ],
   "source": [
    "df.head()"
   ]
  },
  {
   "cell_type": "code",
   "execution_count": null,
   "metadata": {},
   "outputs": [],
   "source": [
    "## Generate random latitude and longitudes\n",
    "# Range of latitudes and longitudes\n",
    "#lat_range = (-90, 90)\n",
    "#lng_range = (-180, 180)\n",
    "\n",
    "# List for holding lat_lngs tuples\n",
    "#lat_lng_rand = []\n",
    "\n",
    "# Create a set of random lat and lng combinations\n",
    "#lats = np.random.uniform(low=-90.000, high=90.000, size=1500)\n",
    "#lngs = np.random.uniform(low=-180.000, high=180.000, size=1500)\n",
    "\n",
    "\n",
    "\n",
    "lat_lng_rand = zip(lats, lngs)\n",
    "\n",
    "## Generate cities list from random latitudes and longitudes using citipy.nearest_city\n",
    "# List for holding cities\n",
    "cities = []\n",
    "\n",
    "# Identify nearest city for each lat, lng combination\n",
    "for lat_lng in lat_lng_rand:\n",
    "    city = citipy.nearest_city(lat_lng[0], lat_lng[1]).city_name\n",
    "    \n",
    "    # If the city is unique, then add it to a our cities list\n",
    "    if city not in cities:\n",
    "        cities.append(city)\n",
    "\n",
    "# Print the city count to confirm sufficient count\n",
    "len(cities)"
   ]
  },
  {
   "cell_type": "code",
   "execution_count": 7,
   "metadata": {},
   "outputs": [
    {
     "data": {
      "text/plain": [
       "23412"
      ]
     },
     "execution_count": 7,
     "metadata": {},
     "output_type": "execute_result"
    }
   ],
   "source": [
    "len(df)"
   ]
  },
  {
   "cell_type": "code",
   "execution_count": null,
   "metadata": {},
   "outputs": [],
   "source": []
  },
  {
   "cell_type": "code",
   "execution_count": null,
   "metadata": {},
   "outputs": [],
   "source": []
  },
  {
   "cell_type": "code",
   "execution_count": null,
   "metadata": {},
   "outputs": [],
   "source": []
  },
  {
   "cell_type": "markdown",
   "metadata": {},
   "source": [
    "## Transform Hash"
   ]
  },
  {
   "cell_type": "code",
   "execution_count": 18,
   "metadata": {},
   "outputs": [
    {
     "data": {
      "text/html": [
       "<div>\n",
       "<style scoped>\n",
       "    .dataframe tbody tr th:only-of-type {\n",
       "        vertical-align: middle;\n",
       "    }\n",
       "\n",
       "    .dataframe tbody tr th {\n",
       "        vertical-align: top;\n",
       "    }\n",
       "\n",
       "    .dataframe thead th {\n",
       "        text-align: right;\n",
       "    }\n",
       "</style>\n",
       "<table border=\"1\" class=\"dataframe\">\n",
       "  <thead>\n",
       "    <tr style=\"text-align: right;\">\n",
       "      <th></th>\n",
       "      <th>City_ID</th>\n",
       "      <th>City</th>\n",
       "      <th>Cloudiness</th>\n",
       "      <th>Country</th>\n",
       "      <th>Date</th>\n",
       "      <th>Humidity</th>\n",
       "      <th>Lat</th>\n",
       "      <th>Lng</th>\n",
       "      <th>Max Temp</th>\n",
       "      <th>Wind Speed</th>\n",
       "      <th>hash</th>\n",
       "    </tr>\n",
       "  </thead>\n",
       "  <tbody>\n",
       "    <tr>\n",
       "      <th>542</th>\n",
       "      <td>542</td>\n",
       "      <td>scalea</td>\n",
       "      <td>36</td>\n",
       "      <td>IT</td>\n",
       "      <td>1528905631</td>\n",
       "      <td>100</td>\n",
       "      <td>39.82</td>\n",
       "      <td>15.79</td>\n",
       "      <td>70.06</td>\n",
       "      <td>5.30</td>\n",
       "      <td>-7776889599612997735</td>\n",
       "    </tr>\n",
       "    <tr>\n",
       "      <th>543</th>\n",
       "      <td>543</td>\n",
       "      <td>san andres</td>\n",
       "      <td>68</td>\n",
       "      <td>PH</td>\n",
       "      <td>1528905632</td>\n",
       "      <td>100</td>\n",
       "      <td>13.32</td>\n",
       "      <td>122.68</td>\n",
       "      <td>83.47</td>\n",
       "      <td>22.64</td>\n",
       "      <td>6153222264861819892</td>\n",
       "    </tr>\n",
       "    <tr>\n",
       "      <th>544</th>\n",
       "      <td>544</td>\n",
       "      <td>muisne</td>\n",
       "      <td>92</td>\n",
       "      <td>EC</td>\n",
       "      <td>1528905633</td>\n",
       "      <td>84</td>\n",
       "      <td>0.61</td>\n",
       "      <td>-80.02</td>\n",
       "      <td>76.90</td>\n",
       "      <td>4.63</td>\n",
       "      <td>-4358575719749853676</td>\n",
       "    </tr>\n",
       "    <tr>\n",
       "      <th>545</th>\n",
       "      <td>545</td>\n",
       "      <td>ati</td>\n",
       "      <td>20</td>\n",
       "      <td>TD</td>\n",
       "      <td>1528905633</td>\n",
       "      <td>25</td>\n",
       "      <td>13.21</td>\n",
       "      <td>18.34</td>\n",
       "      <td>104.53</td>\n",
       "      <td>4.97</td>\n",
       "      <td>668237472065734703</td>\n",
       "    </tr>\n",
       "    <tr>\n",
       "      <th>546</th>\n",
       "      <td>546</td>\n",
       "      <td>san luis</td>\n",
       "      <td>0</td>\n",
       "      <td>AR</td>\n",
       "      <td>1528905472</td>\n",
       "      <td>53</td>\n",
       "      <td>-33.30</td>\n",
       "      <td>-66.34</td>\n",
       "      <td>42.43</td>\n",
       "      <td>2.62</td>\n",
       "      <td>-3731135503255177272</td>\n",
       "    </tr>\n",
       "  </tbody>\n",
       "</table>\n",
       "</div>"
      ],
      "text/plain": [
       "     City_ID        City  Cloudiness Country        Date  Humidity    Lat  \\\n",
       "542      542      scalea          36      IT  1528905631       100  39.82   \n",
       "543      543  san andres          68      PH  1528905632       100  13.32   \n",
       "544      544      muisne          92      EC  1528905633        84   0.61   \n",
       "545      545         ati          20      TD  1528905633        25  13.21   \n",
       "546      546    san luis           0      AR  1528905472        53 -33.30   \n",
       "\n",
       "        Lng  Max Temp  Wind Speed                 hash  \n",
       "542   15.79     70.06        5.30 -7776889599612997735  \n",
       "543  122.68     83.47       22.64  6153222264861819892  \n",
       "544  -80.02     76.90        4.63 -4358575719749853676  \n",
       "545   18.34    104.53        4.97   668237472065734703  \n",
       "546  -66.34     42.43        2.62 -3731135503255177272  "
      ]
     },
     "execution_count": 18,
     "metadata": {},
     "output_type": "execute_result"
    }
   ],
   "source": [
    "df['hash'] = pd.Series((hash(tuple(row)) for _, row in df.iterrows()))\n",
    "#Hash Code\n",
    "#https://stackoverflow.com/questions/25757042/create-hash-value-for-each-row-of-data-with-selected-columns-in-dataframe-in-pyt\n",
    "df.tail()"
   ]
  },
  {
   "cell_type": "code",
   "execution_count": 19,
   "metadata": {},
   "outputs": [
    {
     "data": {
      "text/plain": [
       "1095"
      ]
     },
     "execution_count": 19,
     "metadata": {},
     "output_type": "execute_result"
    }
   ],
   "source": [
    "len(df)"
   ]
  },
  {
   "cell_type": "markdown",
   "metadata": {},
   "source": [
    "## Transform Dedupe"
   ]
  },
  {
   "cell_type": "code",
   "execution_count": 20,
   "metadata": {},
   "outputs": [],
   "source": [
    "df_nodupe = df[~df.duplicated()]\n",
    "#Dedupe code source\n",
    "#https://stackoverflow.com/questions/40438237/assign-hash-to-row-of-categorical-data-in-pandas"
   ]
  },
  {
   "cell_type": "code",
   "execution_count": 21,
   "metadata": {
    "scrolled": true
   },
   "outputs": [
    {
     "data": {
      "text/html": [
       "<div>\n",
       "<style scoped>\n",
       "    .dataframe tbody tr th:only-of-type {\n",
       "        vertical-align: middle;\n",
       "    }\n",
       "\n",
       "    .dataframe tbody tr th {\n",
       "        vertical-align: top;\n",
       "    }\n",
       "\n",
       "    .dataframe thead th {\n",
       "        text-align: right;\n",
       "    }\n",
       "</style>\n",
       "<table border=\"1\" class=\"dataframe\">\n",
       "  <thead>\n",
       "    <tr style=\"text-align: right;\">\n",
       "      <th></th>\n",
       "      <th>City_ID</th>\n",
       "      <th>City</th>\n",
       "      <th>Cloudiness</th>\n",
       "      <th>Country</th>\n",
       "      <th>Date</th>\n",
       "      <th>Humidity</th>\n",
       "      <th>Lat</th>\n",
       "      <th>Lng</th>\n",
       "      <th>Max Temp</th>\n",
       "      <th>Wind Speed</th>\n",
       "      <th>hash</th>\n",
       "    </tr>\n",
       "  </thead>\n",
       "  <tbody>\n",
       "    <tr>\n",
       "      <th>0</th>\n",
       "      <td>0</td>\n",
       "      <td>jacareacanga</td>\n",
       "      <td>0</td>\n",
       "      <td>BR</td>\n",
       "      <td>1528902000</td>\n",
       "      <td>62</td>\n",
       "      <td>-6.22</td>\n",
       "      <td>-57.76</td>\n",
       "      <td>89.60</td>\n",
       "      <td>6.93</td>\n",
       "      <td>8089838516891515384</td>\n",
       "    </tr>\n",
       "    <tr>\n",
       "      <th>1</th>\n",
       "      <td>1</td>\n",
       "      <td>kaitangata</td>\n",
       "      <td>100</td>\n",
       "      <td>NZ</td>\n",
       "      <td>1528905304</td>\n",
       "      <td>94</td>\n",
       "      <td>-46.28</td>\n",
       "      <td>169.85</td>\n",
       "      <td>42.61</td>\n",
       "      <td>5.64</td>\n",
       "      <td>2367684193594300934</td>\n",
       "    </tr>\n",
       "    <tr>\n",
       "      <th>2</th>\n",
       "      <td>2</td>\n",
       "      <td>goulburn</td>\n",
       "      <td>20</td>\n",
       "      <td>AU</td>\n",
       "      <td>1528905078</td>\n",
       "      <td>91</td>\n",
       "      <td>-34.75</td>\n",
       "      <td>149.72</td>\n",
       "      <td>44.32</td>\n",
       "      <td>10.11</td>\n",
       "      <td>-5985903078597179477</td>\n",
       "    </tr>\n",
       "    <tr>\n",
       "      <th>3</th>\n",
       "      <td>3</td>\n",
       "      <td>lata</td>\n",
       "      <td>76</td>\n",
       "      <td>IN</td>\n",
       "      <td>1528905305</td>\n",
       "      <td>89</td>\n",
       "      <td>30.78</td>\n",
       "      <td>78.62</td>\n",
       "      <td>59.89</td>\n",
       "      <td>0.94</td>\n",
       "      <td>-1873370033211715858</td>\n",
       "    </tr>\n",
       "    <tr>\n",
       "      <th>4</th>\n",
       "      <td>4</td>\n",
       "      <td>chokurdakh</td>\n",
       "      <td>0</td>\n",
       "      <td>RU</td>\n",
       "      <td>1528905306</td>\n",
       "      <td>88</td>\n",
       "      <td>70.62</td>\n",
       "      <td>147.90</td>\n",
       "      <td>32.17</td>\n",
       "      <td>2.95</td>\n",
       "      <td>8460587636036003065</td>\n",
       "    </tr>\n",
       "  </tbody>\n",
       "</table>\n",
       "</div>"
      ],
      "text/plain": [
       "   City_ID          City  Cloudiness Country        Date  Humidity    Lat  \\\n",
       "0        0  jacareacanga           0      BR  1528902000        62  -6.22   \n",
       "1        1    kaitangata         100      NZ  1528905304        94 -46.28   \n",
       "2        2      goulburn          20      AU  1528905078        91 -34.75   \n",
       "3        3          lata          76      IN  1528905305        89  30.78   \n",
       "4        4    chokurdakh           0      RU  1528905306        88  70.62   \n",
       "\n",
       "      Lng  Max Temp  Wind Speed                 hash  \n",
       "0  -57.76     89.60        6.93  8089838516891515384  \n",
       "1  169.85     42.61        5.64  2367684193594300934  \n",
       "2  149.72     44.32       10.11 -5985903078597179477  \n",
       "3   78.62     59.89        0.94 -1873370033211715858  \n",
       "4  147.90     32.17        2.95  8460587636036003065  "
      ]
     },
     "execution_count": 21,
     "metadata": {},
     "output_type": "execute_result"
    }
   ],
   "source": [
    "df_nodupe.head()"
   ]
  },
  {
   "cell_type": "code",
   "execution_count": 22,
   "metadata": {},
   "outputs": [
    {
     "data": {
      "text/plain": [
       "547"
      ]
     },
     "execution_count": 22,
     "metadata": {},
     "output_type": "execute_result"
    }
   ],
   "source": [
    "len(df_nodupe)"
   ]
  },
  {
   "cell_type": "markdown",
   "metadata": {},
   "source": [
    "## Load"
   ]
  },
  {
   "cell_type": "markdown",
   "metadata": {},
   "source": [
    "#### > Convert DataFrame to json formatted file"
   ]
  },
  {
   "cell_type": "code",
   "execution_count": 23,
   "metadata": {},
   "outputs": [],
   "source": [
    "import json"
   ]
  },
  {
   "cell_type": "code",
   "execution_count": 24,
   "metadata": {},
   "outputs": [],
   "source": [
    "df_nodupe.to_json('ETL_json_file', orient='index')\n",
    "# Converting dataframe data to json format\n",
    "# https://pandas.pydata.org/pandas-docs/stable/reference/api/pandas.DataFrame.to_json.html"
   ]
  },
  {
   "cell_type": "code",
   "execution_count": 25,
   "metadata": {},
   "outputs": [],
   "source": [
    "json_data = df_nodupe.to_json(orient='index')\n",
    "parsed = json.loads(json_data)\n",
    "# print(json.dumps(parsed, indent=4, sort_keys=True))\n",
    "# Un-comment print to pretty print json formated data"
   ]
  },
  {
   "cell_type": "markdown",
   "metadata": {},
   "source": [
    "#### > Create MongoDB named 'etl_db' with a collection 'etl_data'"
   ]
  },
  {
   "cell_type": "code",
   "execution_count": 26,
   "metadata": {},
   "outputs": [
    {
     "name": "stdout",
     "output_type": "stream",
     "text": [
      "Mongo version 3.9.0\n"
     ]
    }
   ],
   "source": [
    "import pymongo\n",
    "from pymongo import MongoClient\n",
    "client = MongoClient()\n",
    "client = MongoClient('localhost', 27017)\n",
    "client = MongoClient('mongodb://localhost:27017/')\n",
    "print('Mongo version', pymongo.__version__)"
   ]
  },
  {
   "cell_type": "code",
   "execution_count": 27,
   "metadata": {},
   "outputs": [],
   "source": [
    "# Uncomment code to drop existing database before creating new one\n",
    "# client.drop_database('etl_db')"
   ]
  },
  {
   "cell_type": "code",
   "execution_count": 28,
   "metadata": {},
   "outputs": [],
   "source": [
    "db = client['etl_db']\n",
    "# Create database named 'etl_db'\n",
    "\n",
    "db.etl_data.drop() # Drop collection if it already exist\n",
    "\n",
    "collection = db['etl_data']\n",
    "# Create collection called 'etl_data'"
   ]
  },
  {
   "cell_type": "markdown",
   "metadata": {},
   "source": [
    "#### > Load ETL_json_file data"
   ]
  },
  {
   "cell_type": "code",
   "execution_count": 29,
   "metadata": {},
   "outputs": [],
   "source": [
    "with open('ETL_json_file') as f:\n",
    "    file_data = json.load(f)\n",
    "    collection.insert_one(file_data) \n",
    "client.close()\n",
    "# Read json file into mongoDB\n",
    "# https://stackoverflow.com/questions/49510049/how-to-import-json-file-to-mongodb-using-python"
   ]
  },
  {
   "cell_type": "code",
   "execution_count": 30,
   "metadata": {},
   "outputs": [
    {
     "data": {
      "text/plain": [
       "['etl_data']"
      ]
     },
     "execution_count": 30,
     "metadata": {},
     "output_type": "execute_result"
    }
   ],
   "source": [
    "db.list_collection_names()\n",
    "# List collections in database"
   ]
  },
  {
   "cell_type": "code",
   "execution_count": 31,
   "metadata": {},
   "outputs": [
    {
     "data": {
      "text/plain": [
       "<pymongo.cursor.Cursor at 0x196960d1cc0>"
      ]
     },
     "execution_count": 31,
     "metadata": {},
     "output_type": "execute_result"
    }
   ],
   "source": [
    "db.etl_data.find( { 0: {} } )\n"
   ]
  },
  {
   "cell_type": "code",
   "execution_count": 32,
   "metadata": {
    "scrolled": false
   },
   "outputs": [],
   "source": [
    "# cursor = db.etl_data # selecting the etl_data collection\n",
    "# for document in cursor.find():\n",
    "#    print (document)\n",
    "# Printing the content of the collection LARGE PRINTOUT"
   ]
  },
  {
   "cell_type": "markdown",
   "metadata": {},
   "source": [
    "#### > Reading content of database and loading it into a dataframe"
   ]
  },
  {
   "cell_type": "code",
   "execution_count": 33,
   "metadata": {},
   "outputs": [],
   "source": [
    "extracted_etl_data = db.etl_data\n",
    "df = pd.DataFrame(list(extracted_etl_data.find()))\n",
    "# https://stackoverflow.com/questions/16249736/how-to-import-data-from-mongodb-to-pandas"
   ]
  },
  {
   "cell_type": "code",
   "execution_count": 34,
   "metadata": {},
   "outputs": [
    {
     "data": {
      "text/html": [
       "<div>\n",
       "<style scoped>\n",
       "    .dataframe tbody tr th:only-of-type {\n",
       "        vertical-align: middle;\n",
       "    }\n",
       "\n",
       "    .dataframe tbody tr th {\n",
       "        vertical-align: top;\n",
       "    }\n",
       "\n",
       "    .dataframe thead th {\n",
       "        text-align: right;\n",
       "    }\n",
       "</style>\n",
       "<table border=\"1\" class=\"dataframe\">\n",
       "  <thead>\n",
       "    <tr style=\"text-align: right;\">\n",
       "      <th></th>\n",
       "      <th>0</th>\n",
       "      <th>1</th>\n",
       "      <th>10</th>\n",
       "      <th>100</th>\n",
       "      <th>101</th>\n",
       "      <th>102</th>\n",
       "      <th>103</th>\n",
       "      <th>104</th>\n",
       "      <th>105</th>\n",
       "      <th>106</th>\n",
       "      <th>...</th>\n",
       "      <th>91</th>\n",
       "      <th>92</th>\n",
       "      <th>93</th>\n",
       "      <th>94</th>\n",
       "      <th>95</th>\n",
       "      <th>96</th>\n",
       "      <th>97</th>\n",
       "      <th>98</th>\n",
       "      <th>99</th>\n",
       "      <th>_id</th>\n",
       "    </tr>\n",
       "  </thead>\n",
       "  <tbody>\n",
       "    <tr>\n",
       "      <th>0</th>\n",
       "      <td>{'City_ID': 0, 'City': 'jacareacanga', 'Cloudi...</td>\n",
       "      <td>{'City_ID': 1, 'City': 'kaitangata', 'Cloudine...</td>\n",
       "      <td>{'City_ID': 10, 'City': 'puerto ayora', 'Cloud...</td>\n",
       "      <td>{'City_ID': 100, 'City': 'auchel', 'Cloudiness...</td>\n",
       "      <td>{'City_ID': 101, 'City': 'bubaque', 'Cloudines...</td>\n",
       "      <td>{'City_ID': 102, 'City': 'khatanga', 'Cloudine...</td>\n",
       "      <td>{'City_ID': 103, 'City': 'los banos', 'Cloudin...</td>\n",
       "      <td>{'City_ID': 104, 'City': 'labuhan', 'Cloudines...</td>\n",
       "      <td>{'City_ID': 105, 'City': 'saint-paul', 'Cloudi...</td>\n",
       "      <td>{'City_ID': 106, 'City': 'petatlan', 'Cloudine...</td>\n",
       "      <td>...</td>\n",
       "      <td>{'City_ID': 91, 'City': 'mataura', 'Cloudiness...</td>\n",
       "      <td>{'City_ID': 92, 'City': 'buala', 'Cloudiness':...</td>\n",
       "      <td>{'City_ID': 93, 'City': 'eyl', 'Cloudiness': 2...</td>\n",
       "      <td>{'City_ID': 94, 'City': 'abu dhabi', 'Cloudine...</td>\n",
       "      <td>{'City_ID': 95, 'City': 'tahe', 'Cloudiness': ...</td>\n",
       "      <td>{'City_ID': 96, 'City': 'chuy', 'Cloudiness': ...</td>\n",
       "      <td>{'City_ID': 97, 'City': 'dzerzhinskoye', 'Clou...</td>\n",
       "      <td>{'City_ID': 98, 'City': 'vanavara', 'Cloudines...</td>\n",
       "      <td>{'City_ID': 99, 'City': 'muros', 'Cloudiness':...</td>\n",
       "      <td>5d7039a9ae8f05cc6640f391</td>\n",
       "    </tr>\n",
       "  </tbody>\n",
       "</table>\n",
       "<p>1 rows × 548 columns</p>\n",
       "</div>"
      ],
      "text/plain": [
       "                                                   0  \\\n",
       "0  {'City_ID': 0, 'City': 'jacareacanga', 'Cloudi...   \n",
       "\n",
       "                                                   1  \\\n",
       "0  {'City_ID': 1, 'City': 'kaitangata', 'Cloudine...   \n",
       "\n",
       "                                                  10  \\\n",
       "0  {'City_ID': 10, 'City': 'puerto ayora', 'Cloud...   \n",
       "\n",
       "                                                 100  \\\n",
       "0  {'City_ID': 100, 'City': 'auchel', 'Cloudiness...   \n",
       "\n",
       "                                                 101  \\\n",
       "0  {'City_ID': 101, 'City': 'bubaque', 'Cloudines...   \n",
       "\n",
       "                                                 102  \\\n",
       "0  {'City_ID': 102, 'City': 'khatanga', 'Cloudine...   \n",
       "\n",
       "                                                 103  \\\n",
       "0  {'City_ID': 103, 'City': 'los banos', 'Cloudin...   \n",
       "\n",
       "                                                 104  \\\n",
       "0  {'City_ID': 104, 'City': 'labuhan', 'Cloudines...   \n",
       "\n",
       "                                                 105  \\\n",
       "0  {'City_ID': 105, 'City': 'saint-paul', 'Cloudi...   \n",
       "\n",
       "                                                 106  ...  \\\n",
       "0  {'City_ID': 106, 'City': 'petatlan', 'Cloudine...  ...   \n",
       "\n",
       "                                                  91  \\\n",
       "0  {'City_ID': 91, 'City': 'mataura', 'Cloudiness...   \n",
       "\n",
       "                                                  92  \\\n",
       "0  {'City_ID': 92, 'City': 'buala', 'Cloudiness':...   \n",
       "\n",
       "                                                  93  \\\n",
       "0  {'City_ID': 93, 'City': 'eyl', 'Cloudiness': 2...   \n",
       "\n",
       "                                                  94  \\\n",
       "0  {'City_ID': 94, 'City': 'abu dhabi', 'Cloudine...   \n",
       "\n",
       "                                                  95  \\\n",
       "0  {'City_ID': 95, 'City': 'tahe', 'Cloudiness': ...   \n",
       "\n",
       "                                                  96  \\\n",
       "0  {'City_ID': 96, 'City': 'chuy', 'Cloudiness': ...   \n",
       "\n",
       "                                                  97  \\\n",
       "0  {'City_ID': 97, 'City': 'dzerzhinskoye', 'Clou...   \n",
       "\n",
       "                                                  98  \\\n",
       "0  {'City_ID': 98, 'City': 'vanavara', 'Cloudines...   \n",
       "\n",
       "                                                  99                       _id  \n",
       "0  {'City_ID': 99, 'City': 'muros', 'Cloudiness':...  5d7039a9ae8f05cc6640f391  \n",
       "\n",
       "[1 rows x 548 columns]"
      ]
     },
     "execution_count": 34,
     "metadata": {},
     "output_type": "execute_result"
    }
   ],
   "source": [
    "df"
   ]
  },
  {
   "cell_type": "code",
   "execution_count": 35,
   "metadata": {},
   "outputs": [],
   "source": [
    "df = df.melt()"
   ]
  },
  {
   "cell_type": "code",
   "execution_count": 36,
   "metadata": {},
   "outputs": [
    {
     "data": {
      "text/html": [
       "<div>\n",
       "<style scoped>\n",
       "    .dataframe tbody tr th:only-of-type {\n",
       "        vertical-align: middle;\n",
       "    }\n",
       "\n",
       "    .dataframe tbody tr th {\n",
       "        vertical-align: top;\n",
       "    }\n",
       "\n",
       "    .dataframe thead th {\n",
       "        text-align: right;\n",
       "    }\n",
       "</style>\n",
       "<table border=\"1\" class=\"dataframe\">\n",
       "  <thead>\n",
       "    <tr style=\"text-align: right;\">\n",
       "      <th></th>\n",
       "      <th>variable</th>\n",
       "      <th>value</th>\n",
       "    </tr>\n",
       "  </thead>\n",
       "  <tbody>\n",
       "    <tr>\n",
       "      <th>0</th>\n",
       "      <td>0</td>\n",
       "      <td>{'City_ID': 0, 'City': 'jacareacanga', 'Cloudi...</td>\n",
       "    </tr>\n",
       "    <tr>\n",
       "      <th>1</th>\n",
       "      <td>1</td>\n",
       "      <td>{'City_ID': 1, 'City': 'kaitangata', 'Cloudine...</td>\n",
       "    </tr>\n",
       "    <tr>\n",
       "      <th>2</th>\n",
       "      <td>10</td>\n",
       "      <td>{'City_ID': 10, 'City': 'puerto ayora', 'Cloud...</td>\n",
       "    </tr>\n",
       "    <tr>\n",
       "      <th>3</th>\n",
       "      <td>100</td>\n",
       "      <td>{'City_ID': 100, 'City': 'auchel', 'Cloudiness...</td>\n",
       "    </tr>\n",
       "    <tr>\n",
       "      <th>4</th>\n",
       "      <td>101</td>\n",
       "      <td>{'City_ID': 101, 'City': 'bubaque', 'Cloudines...</td>\n",
       "    </tr>\n",
       "  </tbody>\n",
       "</table>\n",
       "</div>"
      ],
      "text/plain": [
       "  variable                                              value\n",
       "0        0  {'City_ID': 0, 'City': 'jacareacanga', 'Cloudi...\n",
       "1        1  {'City_ID': 1, 'City': 'kaitangata', 'Cloudine...\n",
       "2       10  {'City_ID': 10, 'City': 'puerto ayora', 'Cloud...\n",
       "3      100  {'City_ID': 100, 'City': 'auchel', 'Cloudiness...\n",
       "4      101  {'City_ID': 101, 'City': 'bubaque', 'Cloudines..."
      ]
     },
     "execution_count": 36,
     "metadata": {},
     "output_type": "execute_result"
    }
   ],
   "source": [
    "df.head()"
   ]
  },
  {
   "cell_type": "code",
   "execution_count": 37,
   "metadata": {},
   "outputs": [
    {
     "data": {
      "text/plain": [
       "548"
      ]
     },
     "execution_count": 37,
     "metadata": {},
     "output_type": "execute_result"
    }
   ],
   "source": [
    "len(df)"
   ]
  },
  {
   "cell_type": "code",
   "execution_count": 38,
   "metadata": {
    "scrolled": false
   },
   "outputs": [
    {
     "data": {
      "text/plain": [
       "{'City_ID': 0,\n",
       " 'City': 'jacareacanga',\n",
       " 'Cloudiness': 0,\n",
       " 'Country': 'BR',\n",
       " 'Date': 1528902000,\n",
       " 'Humidity': 62,\n",
       " 'Lat': -6.22,\n",
       " 'Lng': -57.76,\n",
       " 'Max Temp': 89.6,\n",
       " 'Wind Speed': 6.93,\n",
       " 'hash': 8089838516891515384}"
      ]
     },
     "execution_count": 38,
     "metadata": {},
     "output_type": "execute_result"
    }
   ],
   "source": [
    "df.iloc[0][1]\n",
    "# Showing content of first row 'value'"
   ]
  },
  {
   "cell_type": "markdown",
   "metadata": {},
   "source": [
    "#### > CSV Move script - moves .csv files after being ETL processed"
   ]
  },
  {
   "cell_type": "code",
   "execution_count": 39,
   "metadata": {},
   "outputs": [],
   "source": [
    "import shutil, os, glob"
   ]
  },
  {
   "cell_type": "code",
   "execution_count": 40,
   "metadata": {},
   "outputs": [],
   "source": [
    "#For Loop moving all .csv files from the test_input folder \n",
    "for filePath in glob.glob('input' + '\\*.csv'):\n",
    "            #Move each file to the destination directory\n",
    "        shutil.move(filePath, 'processed');\n",
    "# Move all files that have been ETL'ed into a processed folder\n",
    "#Source Code           \n",
    "#https://thispointer.com/python-how-to-move-files-and-directories/"
   ]
  },
  {
   "cell_type": "markdown",
   "metadata": {},
   "source": [
    "##Schedule ETL Jobs"
   ]
  },
  {
   "cell_type": "code",
   "execution_count": 29,
   "metadata": {},
   "outputs": [],
   "source": [
    "#pip install schedule"
   ]
  },
  {
   "cell_type": "markdown",
   "metadata": {},
   "source": [
    "#Source Code\n",
    "#https://github.com/dbader/schedule\n",
    "import schedule\n",
    "import time\n",
    "\n",
    "def job():\n",
    "    print(\"Performing an ETL process...\")\n",
    "\n",
    "schedule.every(1).minutes.do(job)\n",
    "\n",
    "while 1:\n",
    "    schedule.run_pending()\n",
    "    time.sleep(1)"
   ]
  },
  {
   "cell_type": "code",
   "execution_count": null,
   "metadata": {},
   "outputs": [],
   "source": []
  },
  {
   "cell_type": "code",
   "execution_count": null,
   "metadata": {},
   "outputs": [],
   "source": []
  }
 ],
 "metadata": {
  "kernelspec": {
   "display_name": "Python 3",
   "language": "python",
   "name": "python3"
  },
  "language_info": {
   "codemirror_mode": {
    "name": "ipython",
    "version": 3
   },
   "file_extension": ".py",
   "mimetype": "text/x-python",
   "name": "python",
   "nbconvert_exporter": "python",
   "pygments_lexer": "ipython3",
   "version": "3.7.3"
  }
 },
 "nbformat": 4,
 "nbformat_minor": 2
}
